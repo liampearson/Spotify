{
 "cells": [
  {
   "cell_type": "markdown",
   "id": "da47d951-6fcd-48ae-bc3d-49066d5af7be",
   "metadata": {},
   "source": [
    "# Spotify Wrapped"
   ]
  },
  {
   "cell_type": "code",
   "execution_count": 1,
   "id": "dd2e38fd-0b1a-4f85-8e01-2d3afc686fb4",
   "metadata": {},
   "outputs": [],
   "source": [
    "import pandas as pd\n",
    "import pytz #for adding timezone\n",
    "\n",
    "# helper functions tored in utils\n",
    "import sys\n",
    "sys.path.append('../utils')  # when using utils within notebooks\n",
    "from utils import utils\n",
    "\n",
    "# from datetime import datetime"
   ]
  },
  {
   "cell_type": "markdown",
   "id": "5b97686b-c366-4d44-b8ee-c11a4a793ac9",
   "metadata": {},
   "source": [
    "## 1️⃣ Import Data\n",
    "\n",
    "Update the `parent_folder` with the location of your unzipped Spotify data\n",
    "\n",
    "example: `/Users/yourname/Downloads/Spotify Extended Streaming History/`"
   ]
  },
  {
   "cell_type": "code",
   "execution_count": null,
   "id": "b42baeaf-107e-4d75-8819-59152e2d6643",
   "metadata": {},
   "outputs": [],
   "source": [
    "# Specifiy where your folder of JSON files is\n",
    "parent_folder = \"add/your/path/here\"\n",
    "\n",
    "# call helper function to import all the files into one dataframe\n",
    "df = utils.import_streaming_data(parent_folder)\n",
    "df.head(2)"
   ]
  },
  {
   "cell_type": "markdown",
   "id": "cd8bd9e5-f356-4c8f-8388-5c9c34b559d7",
   "metadata": {},
   "source": [
    "## 2️⃣ Preprocessing\n",
    "\n",
    "* 🕰️ Convert to Timestamp & Localise the time\n",
    "* 📅 Set cutoff date as Nov 15\n",
    "* ⏱️ Only include songs played for 30 seconds or more"
   ]
  },
  {
   "cell_type": "code",
   "execution_count": 3,
   "id": "46f9ed12-1d20-4711-b426-b5665806c1a7",
   "metadata": {},
   "outputs": [],
   "source": [
    "#this is the Date and time (in UTC) of when the stream ended\n",
    "#convert to datetime\n",
    "df['ts'] = pd.to_datetime(df['ts'], format=\"%Y-%m-%dT%H:%M:%SZ\", utc=True)\n",
    "\n",
    "#localise\n",
    "my_tz = pytz.timezone(\"Australia/Sydney\")\n",
    "df['ts'] = df['ts'].dt.tz_convert(my_tz) #convert timezone\n",
    "\n",
    "#sort data in chronological order\n",
    "df.sort_values(by='ts', inplace=True)\n",
    "\n",
    "#reduce just to this year and set cutoff date\n",
    "df = df[df['ts'].dt.year == 2024]\n",
    "\n",
    "#set cutoff date\n",
    "cutoff_date = pd.to_datetime('2024-11-15 23:59').tz_localize('Australia/Sydney')\n",
    "df = df[df['ts']<cutoff_date]\n",
    "\n",
    "# IMPORTANT\n",
    "# Spotify doesn't count song played for less than 30 seconds\n",
    "# filter dataframe to songs played >= 30 seconds (30000 ms)\n",
    "df = df[df['ms_played']>=30000]\n",
    "\n",
    "#filter out podcasts; a null episode =? its a song\n",
    "df = df[df['spotify_episode_uri'].isnull()]"
   ]
  },
  {
   "cell_type": "markdown",
   "id": "01eecac4-ae21-4a8d-b3b3-23bcb139243f",
   "metadata": {},
   "source": [
    "# Begin Spotify Wrapped!\n",
    "\n",
    "We'll make use of the helper functions in our utils file to make our code more modular and readable"
   ]
  },
  {
   "cell_type": "code",
   "execution_count": 4,
   "id": "88756fc9-191f-4d2c-9bd3-9b912fddbf83",
   "metadata": {},
   "outputs": [
    {
     "name": "stdout",
     "output_type": "stream",
     "text": [
      "In 2024, you played 2280 songs. Your total stream count is: 11217\n"
     ]
    }
   ],
   "source": [
    "num_streams = len(df)\n",
    "num_unique_songs_played = df.groupby(['artist', 'song'])['song'].nunique().sum()\n",
    "\n",
    "print(\"In 2024, you played {} songs. Your total stream count is: {}\".format(num_unique_songs_played, num_streams))"
   ]
  },
  {
   "cell_type": "markdown",
   "id": "88e72c51-9b4f-433e-8b0b-9b3371b8aa0b",
   "metadata": {},
   "source": [
    "# ✨ Number 1 Song"
   ]
  },
  {
   "cell_type": "code",
   "execution_count": 5,
   "id": "9bed5262-5aa4-455e-b6b1-f5e6f02a5791",
   "metadata": {},
   "outputs": [
    {
     "data": {
      "image/png": "[encoded data removed]",
      "text/plain": [
       "<PIL.JpegImagePlugin.JpegImageFile image mode=RGB size=64x64>"
      ]
     },
     "metadata": {},
     "output_type": "display_data"
    },
    {
     "name": "stdout",
     "output_type": "stream",
     "text": [
      "Your top song was 'My Boy Only Breaks His Favorite Toys' by Taylor Swift. \n",
      "You played it 114 times, starting on 2024-04-19\n"
     ]
    }
   ],
   "source": [
    "top_song=utils.get_top_n_songs(df, n=1)\n",
    "top_song_artist = top_song['artist'].values.tolist()[0]\n",
    "top_song_song = top_song['song'].values.tolist()[0]\n",
    "top_song_playcount=top_song['count'].values.tolist()[0]\n",
    "top_song_image=top_song['image_url'].values.tolist()[0]\n",
    "top_song_startdate = df[(df['artist']==top_song_artist) &\n",
    "                                      (df['song']==top_song_song)].sort_values(by='ts').head(1).iloc[0]['ts'].date()\n",
    "\n",
    "utils.display_image_from_url(top_song_image)\n",
    "print(\"Your top song was '{title}' by {artist}. \\nYou played it {playcount} times, starting on {start_date}\".format(title=top_song_song,\n",
    "                                                                                                                  artist=top_song_artist,\n",
    "                                                                                                                  playcount=top_song_playcount,\n",
    "                                                                                                                  start_date=top_song_startdate))\n",
    "\n"
   ]
  },
  {
   "cell_type": "markdown",
   "id": "771fa5db-5d73-4f2f-869a-42fac3542a49",
   "metadata": {},
   "source": [
    "# ✨ Top 5 Songs"
   ]
  },
  {
   "cell_type": "code",
   "execution_count": 6,
   "id": "26a87cc3-d354-4b2c-a600-59dfe7642725",
   "metadata": {},
   "outputs": [
    {
     "data": {
      "text/html": [
       "<table border=\"1\" class=\"dataframe\">\n",
       "  <thead>\n",
       "    <tr style=\"text-align: right;\">\n",
       "      <th></th>\n",
       "      <th>artist</th>\n",
       "      <th>song</th>\n",
       "      <th>count</th>\n",
       "      <th>image</th>\n",
       "    </tr>\n",
       "  </thead>\n",
       "  <tbody>\n",
       "    <tr>\n",
       "      <th>1</th>\n",
       "      <td>Taylor Swift</td>\n",
       "      <td>My Boy Only Breaks His Favorite Toys</td>\n",
       "      <td>114</td>\n",
       "      <td><img src=\"https://i.scdn.co/image/ab67616d000048518ecc33f195df6aa257c39eaa\", width=\"100%\", height=\"100%\"></td>\n",
       "    </tr>\n",
       "    <tr>\n",
       "      <th>2</th>\n",
       "      <td>Taylor Swift</td>\n",
       "      <td>The Tortured Poets Department</td>\n",
       "      <td>106</td>\n",
       "      <td><img src=\"https://i.scdn.co/image/ab67616d000048518ecc33f195df6aa257c39eaa\", width=\"100%\", height=\"100%\"></td>\n",
       "    </tr>\n",
       "    <tr>\n",
       "      <th>3</th>\n",
       "      <td>Taylor Swift</td>\n",
       "      <td>Fortnight (feat. Post Malone)</td>\n",
       "      <td>101</td>\n",
       "      <td><img src=\"https://i.scdn.co/image/ab67616d000048518ecc33f195df6aa257c39eaa\", width=\"100%\", height=\"100%\"></td>\n",
       "    </tr>\n",
       "    <tr>\n",
       "      <th>4</th>\n",
       "      <td>Taylor Swift</td>\n",
       "      <td>Down Bad</td>\n",
       "      <td>99</td>\n",
       "      <td><img src=\"https://i.scdn.co/image/ab67616d000048518ecc33f195df6aa257c39eaa\", width=\"100%\", height=\"100%\"></td>\n",
       "    </tr>\n",
       "    <tr>\n",
       "      <th>5</th>\n",
       "      <td>Taylor Swift</td>\n",
       "      <td>So Long, London</td>\n",
       "      <td>87</td>\n",
       "      <td><img src=\"https://i.scdn.co/image/ab67616d000048518ecc33f195df6aa257c39eaa\", width=\"100%\", height=\"100%\"></td>\n",
       "    </tr>\n",
       "  </tbody>\n",
       "</table>"
      ],
      "text/plain": [
       "<IPython.core.display.HTML object>"
      ]
     },
     "execution_count": 6,
     "metadata": {},
     "output_type": "execute_result"
    }
   ],
   "source": [
    "utils.display_images_in_dataframe(utils.get_top_n_songs(df, 5), scale=1)"
   ]
  },
  {
   "cell_type": "markdown",
   "id": "8decc17c-1d38-46db-acb9-b5dcdf874947",
   "metadata": {},
   "source": [
    "# ✨ Number 1 Artist"
   ]
  },
  {
   "cell_type": "code",
   "execution_count": 7,
   "id": "f7f6f717-d3d6-4300-80be-5f794bf533dd",
   "metadata": {},
   "outputs": [
    {
     "name": "stdout",
     "output_type": "stream",
     "text": [
      "You listened to 747 artists this year, but once came out on top\n"
     ]
    }
   ],
   "source": [
    "num_unique_artists = len(df['artist'].unique())\n",
    "print(\"You listened to {} artists this year, but once came out on top\".format(num_unique_artists))"
   ]
  },
  {
   "cell_type": "code",
   "execution_count": 8,
   "id": "48b262f4-e7d0-4d2e-8223-a4603dc1d1ba",
   "metadata": {},
   "outputs": [
    {
     "name": "stdout",
     "output_type": "stream",
     "text": [
      "Say hello to your top artist: Taylor Swift\n"
     ]
    },
    {
     "data": {
      "image/png": "[encoded data removed]",
      "text/plain": [
       "<PIL.JpegImagePlugin.JpegImageFile image mode=RGB size=160x160>"
      ]
     },
     "metadata": {},
     "output_type": "display_data"
    },
    {
     "name": "stdout",
     "output_type": "stream",
     "text": [
      "You spent 9234 minutes listening\n"
     ]
    }
   ],
   "source": [
    "#get the number one most played artist\n",
    "top_artist = utils.get_top_n_artists(df, 1)\n",
    "top_artist_artist = top_artist['artist'].values.tolist()[0]\n",
    "top_artist_image = top_artist['image_url'].values.tolist()[0]\n",
    "top_artist_mins = int(df[df['artist']==top_artist_artist]['ms_played'].sum()/1000/60)\n",
    "\n",
    "print(\"Say hello to your top artist: {}\".format(top_artist_artist))\n",
    "utils.display_image_from_url(top_artist_image)\n",
    "print(\"You spent {} minutes listening\".format(top_artist_mins))"
   ]
  },
  {
   "cell_type": "markdown",
   "id": "350c46f8-eb75-45e7-ad49-d8024d14c91b",
   "metadata": {},
   "source": [
    "# ✨ Top 5 Artists"
   ]
  },
  {
   "cell_type": "code",
   "execution_count": 10,
   "id": "a7a68819-f34d-4925-a8c6-ea51eaaca81b",
   "metadata": {},
   "outputs": [
    {
     "data": {
      "text/html": [
       "<table border=\"1\" class=\"dataframe\">\n",
       "  <thead>\n",
       "    <tr style=\"text-align: right;\">\n",
       "      <th></th>\n",
       "      <th>artist</th>\n",
       "      <th>count</th>\n",
       "      <th>image</th>\n",
       "    </tr>\n",
       "  </thead>\n",
       "  <tbody>\n",
       "    <tr>\n",
       "      <th>1</th>\n",
       "      <td>Taylor Swift</td>\n",
       "      <td>2540</td>\n",
       "      <td><img src=\"https://i.scdn.co/image/ab6761610000f178e672b5f553298dcdccb0e676\", width=\"40.0%\", height=\"40.0%\"></td>\n",
       "    </tr>\n",
       "    <tr>\n",
       "      <th>2</th>\n",
       "      <td>Charli xcx</td>\n",
       "      <td>800</td>\n",
       "      <td><img src=\"https://i.scdn.co/image/ab6761610000f178936885667ef44c306483c838\", width=\"40.0%\", height=\"40.0%\"></td>\n",
       "    </tr>\n",
       "    <tr>\n",
       "      <th>3</th>\n",
       "      <td>Romy</td>\n",
       "      <td>470</td>\n",
       "      <td><img src=\"https://i.scdn.co/image/ab6761610000f178ef66595edf6f913e0f7c5b93\", width=\"40.0%\", height=\"40.0%\"></td>\n",
       "    </tr>\n",
       "    <tr>\n",
       "      <th>4</th>\n",
       "      <td>Chappell Roan</td>\n",
       "      <td>417</td>\n",
       "      <td><img src=\"https://i.scdn.co/image/ab6761610000f178cde5a0d57c1b79de5fce6bee\", width=\"40.0%\", height=\"40.0%\"></td>\n",
       "    </tr>\n",
       "    <tr>\n",
       "      <th>5</th>\n",
       "      <td>Sabrina Carpenter</td>\n",
       "      <td>276</td>\n",
       "      <td><img src=\"https://i.scdn.co/image/ab6761610000f178e053b8338322b9c8609ee7ae\", width=\"40.0%\", height=\"40.0%\"></td>\n",
       "    </tr>\n",
       "  </tbody>\n",
       "</table>"
      ],
      "text/plain": [
       "<IPython.core.display.HTML object>"
      ]
     },
     "execution_count": 10,
     "metadata": {},
     "output_type": "execute_result"
    }
   ],
   "source": [
    "utils.display_images_in_dataframe(utils.get_top_n_artists(df, n=5), scale=0.4)"
   ]
  },
  {
   "cell_type": "markdown",
   "id": "9869618a-808e-4b36-b775-0deebca86a00",
   "metadata": {},
   "source": [
    "# ✨ Minutes Listening"
   ]
  },
  {
   "cell_type": "code",
   "execution_count": 11,
   "id": "480d2ab0-c77a-490f-b691-ce7c7965a53e",
   "metadata": {},
   "outputs": [
    {
     "name": "stdout",
     "output_type": "stream",
     "text": [
      "Minutes Listening: 35035 (that's ~24 days!)\n"
     ]
    }
   ],
   "source": [
    "mins_listening = int(df['ms_played'].sum()/1000/60)\n",
    "print(\"Minutes Listening:\",mins_listening,\"(that's ~{} days!)\".format(int(mins_listening/60/24)))"
   ]
  }
 ],
 "metadata": {
  "kernelspec": {
   "display_name": "Python 3 (ipykernel)",
   "language": "python",
   "name": "python3"
  },
  "language_info": {
   "codemirror_mode": {
    "name": "ipython",
    "version": 3
   },
   "file_extension": ".py",
   "mimetype": "text/x-python",
   "name": "python",
   "nbconvert_exporter": "python",
   "pygments_lexer": "ipython3",
   "version": "3.8.8"
  }
 },
 "nbformat": 4,
 "nbformat_minor": 5
}
