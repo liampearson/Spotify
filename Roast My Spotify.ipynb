{
 "cells": [
  {
   "cell_type": "markdown",
   "id": "2fa74328-84fe-4c82-96b1-fabf2c84c012",
   "metadata": {},
   "source": [
    "# Roast My Spotify Playlist\n",
    "\n",
    "August 2024 was all about 'demure' and asking ChatGPT to roast your instagram. \n",
    "\n",
    "I decided to participate in this roasting trend but with my Spotify Playlist!"
   ]
  },
  {
   "cell_type": "markdown",
   "id": "93e0a11e-7aaf-40e5-9a50-b0e5d0b9f146",
   "metadata": {},
   "source": [
    "# Setup"
   ]
  },
  {
   "cell_type": "code",
   "execution_count": 1,
   "id": "73d00e23-9d07-4624-9234-2370a2417614",
   "metadata": {},
   "outputs": [],
   "source": [
    "import os \n",
    "import base64\n",
    "from requests import post, get\n",
    "import json\n",
    "import pandas as pd\n",
    "import os\n",
    "from dotenv import load_dotenv"
   ]
  },
  {
   "cell_type": "markdown",
   "id": "b389f0d8-5b5d-4df9-a05a-ada33534e3af",
   "metadata": {},
   "source": [
    "#### This allows you to read the API keys from your .env file"
   ]
  },
  {
   "cell_type": "code",
   "execution_count": 2,
   "id": "ac9554f6-a64d-4107-ad10-581755010b77",
   "metadata": {},
   "outputs": [
    {
     "data": {
      "text/plain": [
       "True"
      ]
     },
     "execution_count": 2,
     "metadata": {},
     "output_type": "execute_result"
    }
   ],
   "source": [
    "# Load the environment variables from .env\n",
    "load_dotenv()"
   ]
  },
  {
   "cell_type": "markdown",
   "id": "cc4bfb51-48ae-4b8c-8a6c-7db65faf3835",
   "metadata": {},
   "source": [
    "# 1a. Access the Spotify API\n",
    "\n",
    "This uses the `spotipy` library to authenticate and access a particular user's profile. \n",
    "\n",
    "It will load a Spotify Login Page asking the user to login and approve access. \n",
    "\n",
    "This was a bit fiddly for me; I had to copy the resulting URL and paste it back into this notebook. \n",
    "\n",
    "If successful it will print all your playlists"
   ]
  },
  {
   "cell_type": "code",
   "execution_count": null,
   "id": "450a709a-f6b7-42ec-91de-1f6c9a4b05ee",
   "metadata": {},
   "outputs": [],
   "source": [
    "#!pip install spotipy"
   ]
  },
  {
   "cell_type": "code",
   "execution_count": null,
   "id": "b58f94a8-dff3-433d-9a20-17c86cfa0b97",
   "metadata": {},
   "outputs": [],
   "source": [
    "import spotipy\n",
    "from spotipy.oauth2 import SpotifyOAuth\n",
    "\n",
    "# Define your Spotify application credentials\n",
    "SPOTIPY_CLIENT_ID = os.environ.get(\"SPOTIFY_CLIENT_ID\")\n",
    "SPOTIPY_CLIENT_SECRET = os.environ.get(\"SPOTIFY_CLIENT_SECRET\")\n",
    "SPOTIPY_REDIRECT_URI = 'http://localhost/'\n",
    "SCOPE = 'playlist-read-private'\n",
    "\n",
    "# Set up Spotify authentication\n",
    "sp_oauth = SpotifyOAuth(\n",
    "    client_id=SPOTIPY_CLIENT_ID,\n",
    "    client_secret=SPOTIPY_CLIENT_SECRET,\n",
    "    redirect_uri=SPOTIPY_REDIRECT_URI,\n",
    "    scope=SCOPE\n",
    ")\n",
    "\n",
    "# Get the access token\n",
    "token_info = sp_oauth.get_access_token(as_dict=False)\n",
    "\n",
    "if token_info:\n",
    "    sp = spotipy.Spotify(auth=token_info)\n",
    "    print(\"Authenticated successfully!\")\n",
    "\n",
    "    # Fetch & Print the current user's playlists\n",
    "    # you'll need the playlist_id later\n",
    "    playlists = sp.current_user_playlists()\n",
    "    print(\"User's Playlists:\")\n",
    "    for playlist in playlists['items']:\n",
    "        print(f\"Playlist: {playlist['name']}, ID: {playlist['id']}\")\n",
    "else:\n",
    "    print(\"Failed to authenticate.\")"
   ]
  },
  {
   "cell_type": "markdown",
   "id": "5d709c75-a29f-4c2b-abfb-a7971ec98f83",
   "metadata": {},
   "source": [
    "### 1b. Function to get one of the above playlists"
   ]
  },
  {
   "cell_type": "code",
   "execution_count": 76,
   "id": "f929909c-5625-4ec1-98ec-40fabba4324d",
   "metadata": {},
   "outputs": [
    {
     "name": "stdout",
     "output_type": "stream",
     "text": [
      "Complete. Playlist has 77 songs\n"
     ]
    }
   ],
   "source": [
    "def get_playlist_tracks(username,playlist_id):\n",
    "\n",
    "    #initialise an empty playlist\n",
    "    playlist=[]\n",
    "    \n",
    "    results = sp.user_playlist_tracks(username,playlist_id)\n",
    "    tracks = results['items']\n",
    "    \n",
    "    while results['next']:\n",
    "        results = sp.next(results)\n",
    "        tracks.extend(results['items'])\n",
    "\n",
    "    for track in tracks:\n",
    "        trackname = track['track']['name']\n",
    "        artist = track['track']['artists'][0]['name']\n",
    "        #print(trackname,\"-\", artist)\n",
    "        playlist.append(\"'{}' by {}\".format(trackname, artist))\n",
    "\n",
    "    playlist.reverse() #reverse chronological order\n",
    "\n",
    "    print(\"Complete. Playlist has {} songs\".format(len(playlist)))\n",
    "    return playlist\n",
    "\n"
   ]
  },
  {
   "cell_type": "markdown",
   "id": "c714af66-e5e5-4a20-bcd0-20810cc870a0",
   "metadata": {},
   "source": [
    "### 1c. Call the function `get_playlist_tracks()` \n",
    "\n",
    "Pass in your `userid` and `playlistid`"
   ]
  },
  {
   "cell_type": "code",
   "execution_count": null,
   "id": "6889d056-8ad0-4efe-a5b4-14c4ca94b466",
   "metadata": {},
   "outputs": [],
   "source": [
    "playlist = get_playlist_tracks(\"liampearson\", \"0YynxlZ4jDaT8QOSA8RJfT\")"
   ]
  },
  {
   "cell_type": "code",
   "execution_count": 70,
   "id": "21a258a9-b433-4070-9347-1cbb40244f06",
   "metadata": {},
   "outputs": [
    {
     "name": "stdout",
     "output_type": "stream",
     "text": [
      "'Diet Pepsi' by Addison Rae\n",
      "'Bright Lights' by The Killers\n",
      "'Guess featuring Billie Eilish' by Charli xcx\n",
      "'Nobody’s' by Touché Amoré\n",
      "'Angel Of My Dreams' by JADE\n",
      "'JOYRIDE' by Kesha\n",
      "'Falling Forever - Extended' by Dua Lipa\n",
      "'911 - Charli XCX & A. G. Cook Remix' by Lady Gaga\n",
      "'Girl, so confusing featuring lorde' by Charli xcx\n",
      "'Your Light' by The Big Moon\n",
      "'Close To You' by Gracie Abrams\n",
      "'Hello goodbye' by Charli xcx\n",
      "'Girl, so confusing' by Charli xcx\n",
      "'Cry' by Benson Boone\n",
      "'Beautiful Things' by Benson Boone\n",
      "'Want/Need' by Ceres\n",
      "'L’AMOUR DE MA VIE [OVER NOW EXTENDED EDIT]' by Billie Eilish\n",
      "'Risk' by Gracie Abrams\n",
      "'Dizzy' by Olly Alexander (Years & Years)\n",
      "'Britpop' by A. G. Cook\n",
      "'ZORRA' by Nebulossa\n",
      "'360' by Charli xcx\n",
      "'Sun Don't Shine' by Klangkarussell\n",
      "'Rim Tim Tagi Dim' by Baby Lasagna\n",
      "'The Tower' by LUNA\n",
      "'We Will Rave' by Kaleen\n",
      "'la noia' by Angelina Mango\n",
      "'Pedestal - Eurovision version' by Aiko\n",
      "'Inside' by Pretty Girl\n",
      "'Falling Forever' by Dua Lipa\n",
      "'i like the way you kiss me' by Artemas\n",
      "'Here To Dance' by The Veronicas\n",
      "'Illusion' by Dua Lipa\n",
      "'mr useless' by Shygirl\n",
      "'You Need Me Now? (feat. Sabrina Carpenter)' by girl in red\n",
      "'Von dutch' by Charli xcx\n",
      "'Club classics' by Charli xcx\n",
      "'Austin (Boots Stop Workin')' by Dasha\n",
      "'I LUV IT (feat. Playboi Carti)' by Camila Cabello\n",
      "'Good Luck, Babe!' by Chappell Roan\n",
      "'TEXAS HOLD 'EM' by Beyoncé\n",
      "'obsessed' by Olivia Rodrigo\n",
      "'Did I - Peaches Remix' by Romy\n",
      "'greedy' by Tate McRae\n",
      "'Treason' by Tinashe\n",
      "'Don't Look Down (feat. BANKS)' by Jai Wolf\n",
      "'Got Me Started - Bag Raiders Remix' by Troye Sivan\n",
      "'Disco Boy' by Disco Lines\n",
      "'Crazy Again' by Gossip\n",
      "'we can't be friends (wait for your love)' by Ariana Grande\n",
      "'One Milkali (One Blood)' by Electric Fields\n",
      "'Voglio Vederti Danzare' by Franco Battiato\n",
      "'KARMA' by Michael Medrano\n",
      "'Blame Brett' by The Beaches\n",
      "'Bringing Me Home' by Snakehips\n",
      "'Colorado' by Reneé Rapp\n",
      "'So Right' by Carly Rae Jepsen\n",
      "'MORE THAN YOU KNOW' by blink-182\n",
      "'Your Side of Town' by The Killers\n",
      "'Stay Blessed' by Genesis Owusu\n",
      "'Maniac' by Conan Gray\n",
      "'Pretty Girls' by Reneé Rapp\n",
      "'Rhyme Dust' by MK\n",
      "'Try' by MAFRO\n",
      "'Cruel Summer - triple j Like A Version' by G Flip\n",
      "'Overdrive' by Conan Gray\n",
      "'Cerulean' by Kuren\n",
      "'yes, and?' by Ariana Grande\n",
      "'Too Well' by Reneé Rapp\n",
      "'Detox' by The Veronicas\n",
      "'Peace of Mind' by Disco Lines\n",
      "'Not My Fault (with Megan Thee Stallion)' by Reneé Rapp\n",
      "'It Is What It Is' by Jenna Raine\n",
      "'Fake ID (Coke & Rum Remix)' by Riton\n",
      "'Heavy' by SPRINTS\n",
      "'So Much In Love' by D.O.D\n",
      "'ITALODISCO' by The Kolors\n"
     ]
    }
   ],
   "source": [
    "# the variable roast_this_playlist converts the songs into one string\n",
    "# this makes it easier for the LLM to process each of the different songs\n",
    "roast_this_playlist = \"\\n\".join(playlist)\n",
    "print(roast_this_playlist)"
   ]
  },
  {
   "cell_type": "markdown",
   "id": "50fa6bed-4be2-4d3d-bd6b-910bb7404ca2",
   "metadata": {},
   "source": [
    "# 2. Access the OpenAI API"
   ]
  },
  {
   "cell_type": "code",
   "execution_count": null,
   "id": "258a19de-49f9-42c5-b872-4fdb798974a8",
   "metadata": {},
   "outputs": [],
   "source": [
    "#!pip install openai"
   ]
  },
  {
   "cell_type": "code",
   "execution_count": null,
   "id": "b25fb292-3e45-4fa4-99ed-077f397ef3f9",
   "metadata": {},
   "outputs": [],
   "source": [
    "from openai import OpenAI\n",
    "\n",
    "#retrieve your OpenAI API secret key from your .env file\n",
    "client = OpenAI(api_key=os.environ.get(\"OPENAI_SECRET_KEY\"))"
   ]
  },
  {
   "cell_type": "markdown",
   "id": "be5ec648-1311-423a-af02-c1ff739b4568",
   "metadata": {},
   "source": [
    "## 2a. The Prompt"
   ]
  },
  {
   "cell_type": "code",
   "execution_count": 85,
   "id": "69e2e8b9-fe01-4d69-abc0-f3517cd3113a",
   "metadata": {},
   "outputs": [],
   "source": [
    "completion = client.chat.completions.create(\n",
    "    model=\"gpt-4o-mini\",\n",
    "    messages=[\n",
    "        {\"role\": \"system\", \"content\": \"You are a music critic tasked with roasting my spotify playlist.\"},\n",
    "        {\n",
    "            \"role\": \"user\",\n",
    "            \"content\": \"Roast my Spotify playlist in 100 words or less: {}\".format(roast_this_playlist)\n",
    "        }\n",
    "    ]\n",
    ")"
   ]
  },
  {
   "cell_type": "markdown",
   "id": "94edc541-e5dc-459a-a70e-9b254f7b2f1a",
   "metadata": {},
   "source": [
    "## 2b. The Roast (Response) and Cost\n",
    "\n",
    "~70 songs cost 2cents!"
   ]
  },
  {
   "cell_type": "code",
   "execution_count": 90,
   "id": "82da2cbd-3b61-44dd-8fa5-d2ebeba7053d",
   "metadata": {},
   "outputs": [
    {
     "name": "stdout",
     "output_type": "stream",
     "text": [
      "RESPONSE:\n",
      "\n",
      "Ah, your playlist is like a chaotic mixtape made by a toddler after a sugar rush at a pop festival. You've got Addison Rae trying to be the next pop sensation next to The Killers, who are like, “What happened to our legacy?” Charli XCX is clearly auditioning for the role of 'Most Over-Featured Artist'—I lost count after the third track! And can we talk about the sheer randomness of “Rim Tim Tagi Dim” and “Voglio Vederti Danzare”? Do you get your song selections from a \"What’s Trending Today?\" app? Bless your heart for trying, but this is a slippery slope into music purgatory!\n",
      "\n",
      "COST: $0.02 (USD)\n"
     ]
    }
   ],
   "source": [
    "print(\"RESPONSE:\\n\")\n",
    "print(completion.choices[0].message.content)\n",
    "\n",
    "#calculate cost of the prompt\n",
    "cost_per_prompt_token = 15/1000000 # USD$0.15 per million tokens\n",
    "cost_per_completion_token = 60/1000000 # USD$0.60 per million tokens\n",
    "\n",
    "prompt_tokens = completion.usage.prompt_tokens\n",
    "completion_tokens = completion.usage.completion_tokens\n",
    "\n",
    "cost =  (prompt_tokens*cost_per_prompt_token) + (completion_tokens*cost_per_completion_token)\n",
    "\n",
    "print(\"\\nCOST: ${} (USD)\".format(round(cost,2)))"
   ]
  }
 ],
 "metadata": {
  "kernelspec": {
   "display_name": "Python 3 (ipykernel)",
   "language": "python",
   "name": "python3"
  },
  "language_info": {
   "codemirror_mode": {
    "name": "ipython",
    "version": 3
   },
   "file_extension": ".py",
   "mimetype": "text/x-python",
   "name": "python",
   "nbconvert_exporter": "python",
   "pygments_lexer": "ipython3",
   "version": "3.8.8"
  }
 },
 "nbformat": 4,
 "nbformat_minor": 5
}
