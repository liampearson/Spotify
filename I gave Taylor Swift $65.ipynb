{
 "cells": [
  {
   "cell_type": "markdown",
   "id": "62fbf2d7-e71a-4d5a-8d6f-797bf80fb5ac",
   "metadata": {},
   "source": [
    "# How I gave Taylor Swift $65\n",
    "\n",
    "By accessing my Spotify streaming data, I was able to calculate the number of Taylor Swift songs I've streamed since 2013\n",
    "\n",
    "#### Want to access your Spotify Data? See my post 👉 [HERE]('https://www.linkedin.com/posts/activity-7222003263766773760-PzaJ?utm_source=share&utm_medium=member_desktop')"
   ]
  },
  {
   "cell_type": "markdown",
   "id": "c481fbca-bd80-4607-8928-69afb0c61aa2",
   "metadata": {},
   "source": [
    "# Setup Your directory like this 👇\n",
    "\n",
    "```\n",
    "parent_directory\n",
    "├── import_spotify_data.ipynb (this notebook)\n",
    "├── my_spotify_data.zip\n",
    "└── my_spotify_data\n",
    "    └── Spotify Extended Streaming History\n",
    "        ├── Streaming_History_Audio_2013-2015_0.json\n",
    "        ├── Streaming_History_Audio_2015-2016_1.json\n",
    "        ├── ...\n",
    "        └── Streaming_History_Audio_2023-2024_9.json\n",
    "```"
   ]
  },
  {
   "cell_type": "code",
   "execution_count": 49,
   "id": "dea2c194-d38a-4cdf-a07c-c502e4447812",
   "metadata": {},
   "outputs": [],
   "source": [
    "import pandas as pd"
   ]
  },
  {
   "cell_type": "markdown",
   "id": "ae6910cd-25ed-4be0-a722-ab5a5ae795a1",
   "metadata": {},
   "source": [
    "## 1️⃣ Unzip the .zip file\n",
    "\n",
    "your downloaded zip file should be in same directory as this notebook."
   ]
  },
  {
   "cell_type": "code",
   "execution_count": 50,
   "id": "3accd1dc-0ea0-47de-806c-16fbc3094b74",
   "metadata": {},
   "outputs": [],
   "source": [
    "import zipfile\n",
    "\n",
    "zip_file = \"my_spotify_data.zip\" #path to your downloaded ZIP file\n",
    "unzipped_folder = \"my_spotify_data\" #where you want the unzipped files to go\n",
    "\n",
    "#unzip the file\n",
    "with zipfile.ZipFile(zip_file, 'r') as zip_ref:\n",
    "    zip_ref.extractall(unzipped_folder)"
   ]
  },
  {
   "cell_type": "markdown",
   "id": "c5ebfb0f-279a-401c-8660-054bacc84843",
   "metadata": {},
   "source": [
    "## 2️⃣ Import the JSON files\n",
    "\n",
    "12 years of streaming ~= 15 files ~= 245k rows"
   ]
  },
  {
   "cell_type": "code",
   "execution_count": 51,
   "id": "709427ff-adc2-4dbe-8a38-9b85c0346967",
   "metadata": {},
   "outputs": [
    {
     "name": "stdout",
     "output_type": "stream",
     "text": [
      "Importing Data...\n",
      "my_spotify_data/Spotify Extended Streaming History/Streaming_History_Audio_2013-2015_0.json\n",
      "my_spotify_data/Spotify Extended Streaming History/Streaming_History_Audio_2023-2024_14.json\n",
      "my_spotify_data/Spotify Extended Streaming History/Streaming_History_Audio_2022_11.json\n"
     ]
    },
    {
     "name": "stderr",
     "output_type": "stream",
     "text": [
      "/var/folders/kk/cpbqcncj10l04nn3d5y056yc0000gn/T/ipykernel_45427/3564541925.py:17: FutureWarning: Behavior when concatenating bool-dtype and numeric-dtype arrays is deprecated; in a future version these will cast to object dtype (instead of coercing bools to numeric values). To retain the old behavior, explicitly cast bool-dtype arrays to numeric dtype.\n",
      "  df = pd.concat([df, temp])\n"
     ]
    },
    {
     "name": "stdout",
     "output_type": "stream",
     "text": [
      "my_spotify_data/Spotify Extended Streaming History/Streaming_History_Audio_2019-2020_5.json\n",
      "my_spotify_data/Spotify Extended Streaming History/Streaming_History_Audio_2017-2019_3.json\n",
      "my_spotify_data/Spotify Extended Streaming History/Streaming_History_Audio_2021_8.json\n",
      "my_spotify_data/Spotify Extended Streaming History/Streaming_History_Audio_2021_9.json\n",
      "my_spotify_data/Spotify Extended Streaming History/Streaming_History_Audio_2019_4.json\n",
      "my_spotify_data/Spotify Extended Streaming History/Streaming_History_Audio_2023_13.json\n",
      "my_spotify_data/Spotify Extended Streaming History/Streaming_History_Audio_2020-2021_7.json\n",
      "my_spotify_data/Spotify Extended Streaming History/Streaming_History_Audio_2020_6.json\n",
      "my_spotify_data/Spotify Extended Streaming History/Streaming_History_Audio_2022-2023_12.json\n",
      "my_spotify_data/Spotify Extended Streaming History/Streaming_History_Audio_2021-2022_10.json\n",
      "my_spotify_data/Spotify Extended Streaming History/Streaming_History_Audio_2016-2017_2.json\n",
      "my_spotify_data/Spotify Extended Streaming History/Streaming_History_Audio_2015-2016_1.json\n",
      "\n",
      "Import complete: 15 files imported.\n",
      " Number of rows: 244607\n",
      " Number of cols: 21\n",
      "\n",
      "column names:\n",
      "['ts', 'username', 'platform', 'ms_played', 'conn_country', 'ip_addr_decrypted', 'user_agent_decrypted', 'master_metadata_track_name', 'master_metadata_album_artist_name', 'master_metadata_album_album_name', 'spotify_track_uri', 'episode_name', 'episode_show_name', 'spotify_episode_uri', 'reason_start', 'reason_end', 'shuffle', 'skipped', 'offline', 'offline_timestamp', 'incognito_mode']\n",
      "\n"
     ]
    }
   ],
   "source": [
    "import glob\n",
    "\n",
    "#where are the JSON files?\n",
    "json_files_path = unzipped_folder + '/Spotify Extended Streaming History'         \n",
    "\n",
    "#initialise empty dataframe\n",
    "df = pd.DataFrame()\n",
    "\n",
    "#count how many files were found\n",
    "count = 0\n",
    "\n",
    "# go through the folder and pick up anything that starts with Streaming_History_Audio and ends in .json\n",
    "print(\"Importing Data...\")\n",
    "for file in glob.glob(json_files_path+\"/Streaming_History_Audio*.json\"):\n",
    "    print(file)\n",
    "    temp = pd.read_json(file)\n",
    "    df = pd.concat([df, temp])\n",
    "    count+=1\n",
    "\n",
    "del temp #temp dataframe no longer required\n",
    "\n",
    "print(\"\\nImport complete: {} files imported.\".format(count))\n",
    "print(\" Number of rows: {}\".format(df.shape[0]))\n",
    "print(\" Number of cols: {}\".format(df.shape[1]))\n",
    "print(\"\\ncolumn names:\\n{}\\n\".format(df.columns.tolist()))"
   ]
  },
  {
   "cell_type": "markdown",
   "id": "93fce754-7ecd-4a5c-9af2-9408ef5b440e",
   "metadata": {},
   "source": [
    "## 3️⃣ Preprocessing"
   ]
  },
  {
   "cell_type": "code",
   "execution_count": 52,
   "id": "80e9e597-a4fa-43b7-ab6f-571afa374346",
   "metadata": {},
   "outputs": [],
   "source": [
    "#put in order of date streamed\n",
    "df.sort_values(by='ts', ascending=True, inplace=True)    \n",
    "df.reset_index(drop=True, inplace=True)\n",
    "\n",
    "#converting timestamp to datetime\n",
    "#rename the ts column....no, TS does not stand for TTAYLOR SWIFT\n",
    "df['timestamp'] = pd.to_datetime(df['ts'], format=\"%Y-%m-%dT%H:%M:%SZ\", utc=True)\n",
    "df.drop('ts', axis=1, inplace=True)"
   ]
  },
  {
   "cell_type": "code",
   "execution_count": 53,
   "id": "1c528301-75a0-4033-a53c-06dad2e2a734",
   "metadata": {},
   "outputs": [
    {
     "data": {
      "text/html": [
       "<div>\n",
       "<style scoped>\n",
       "    .dataframe tbody tr th:only-of-type {\n",
       "        vertical-align: middle;\n",
       "    }\n",
       "\n",
       "    .dataframe tbody tr th {\n",
       "        vertical-align: top;\n",
       "    }\n",
       "\n",
       "    .dataframe thead th {\n",
       "        text-align: right;\n",
       "    }\n",
       "</style>\n",
       "<table border=\"1\" class=\"dataframe\">\n",
       "  <thead>\n",
       "    <tr style=\"text-align: right;\">\n",
       "      <th></th>\n",
       "      <th>timestamp</th>\n",
       "      <th>master_metadata_album_artist_name</th>\n",
       "      <th>master_metadata_track_name</th>\n",
       "      <th>master_metadata_album_album_name</th>\n",
       "    </tr>\n",
       "  </thead>\n",
       "  <tbody>\n",
       "    <tr>\n",
       "      <th>3518</th>\n",
       "      <td>2014-02-21 21:16:50+00:00</td>\n",
       "      <td>Taylor Swift</td>\n",
       "      <td>Red</td>\n",
       "      <td>Red</td>\n",
       "    </tr>\n",
       "    <tr>\n",
       "      <th>3519</th>\n",
       "      <td>2014-02-21 21:16:51+00:00</td>\n",
       "      <td>Taylor Swift</td>\n",
       "      <td>Treacherous</td>\n",
       "      <td>Red</td>\n",
       "    </tr>\n",
       "    <tr>\n",
       "      <th>3520</th>\n",
       "      <td>2014-02-21 21:20:31+00:00</td>\n",
       "      <td>Taylor Swift</td>\n",
       "      <td>I Knew You Were Trouble</td>\n",
       "      <td>Red</td>\n",
       "    </tr>\n",
       "    <tr>\n",
       "      <th>3521</th>\n",
       "      <td>2014-02-21 21:21:02+00:00</td>\n",
       "      <td>Taylor Swift</td>\n",
       "      <td>All Too Well</td>\n",
       "      <td>Red</td>\n",
       "    </tr>\n",
       "    <tr>\n",
       "      <th>3522</th>\n",
       "      <td>2014-02-21 21:25:56+00:00</td>\n",
       "      <td>Taylor Swift</td>\n",
       "      <td>State Of Grace</td>\n",
       "      <td>Red</td>\n",
       "    </tr>\n",
       "  </tbody>\n",
       "</table>\n",
       "</div>"
      ],
      "text/plain": [
       "                     timestamp master_metadata_album_artist_name  \\\n",
       "3518 2014-02-21 21:16:50+00:00                      Taylor Swift   \n",
       "3519 2014-02-21 21:16:51+00:00                      Taylor Swift   \n",
       "3520 2014-02-21 21:20:31+00:00                      Taylor Swift   \n",
       "3521 2014-02-21 21:21:02+00:00                      Taylor Swift   \n",
       "3522 2014-02-21 21:25:56+00:00                      Taylor Swift   \n",
       "\n",
       "     master_metadata_track_name master_metadata_album_album_name  \n",
       "3518                        Red                              Red  \n",
       "3519                Treacherous                              Red  \n",
       "3520    I Knew You Were Trouble                              Red  \n",
       "3521               All Too Well                              Red  \n",
       "3522             State Of Grace                              Red  "
      ]
     },
     "execution_count": 53,
     "metadata": {},
     "output_type": "execute_result"
    }
   ],
   "source": [
    "#inspect the data\n",
    "columns = ['timestamp', 'master_metadata_album_artist_name', 'master_metadata_track_name', 'master_metadata_album_album_name']\n",
    "df[df['master_metadata_album_artist_name']=='Taylor Swift'][columns].head()"
   ]
  },
  {
   "cell_type": "markdown",
   "id": "c0f1e502-d049-4a25-8430-bffb94d7341c",
   "metadata": {},
   "source": [
    "## Gather all the Artist's Songs\n",
    "\n",
    "In this case, the artist is **Taylor Swift** \n",
    "\n",
    "1. Count all the rows for that artist\n",
    "2. Multiply by $0.003 (the amount Spotify traditionally pays)"
   ]
  },
  {
   "cell_type": "code",
   "execution_count": 54,
   "id": "669911b4-ae07-4afc-9fd8-fd1b391e1bcf",
   "metadata": {},
   "outputs": [],
   "source": [
    "artist = \"Taylor Swift\""
   ]
  },
  {
   "cell_type": "code",
   "execution_count": 55,
   "id": "0dcd96e6-0bec-48b4-a6d9-dacae4c592f1",
   "metadata": {},
   "outputs": [
    {
     "name": "stdout",
     "output_type": "stream",
     "text": [
      "Number of streams: 14678\n",
      "Royalties: USD$ 44.03\n",
      "Royalties: AUD$ 65.61\n"
     ]
    }
   ],
   "source": [
    "num_streams = len(df[df['master_metadata_album_artist_name']==artist])\n",
    "\n",
    "royalty_per_stream = 0.003\n",
    "\n",
    "aud_conversion = 1.49\n",
    "\n",
    "print(\"Number of streams:\",num_streams)\n",
    "print(\"Royalties: USD$\", round(num_streams * royalty_per_stream,2))\n",
    "print(\"Royalties: AUD$\", round(num_streams * royalty_per_stream * aud_conversion,2))"
   ]
  },
  {
   "cell_type": "code",
   "execution_count": null,
   "id": "97f52833-2040-46f7-936f-f4b60a4705bd",
   "metadata": {},
   "outputs": [],
   "source": []
  }
 ],
 "metadata": {
  "kernelspec": {
   "display_name": "Python 3 (ipykernel)",
   "language": "python",
   "name": "python3"
  },
  "language_info": {
   "codemirror_mode": {
    "name": "ipython",
    "version": 3
   },
   "file_extension": ".py",
   "mimetype": "text/x-python",
   "name": "python",
   "nbconvert_exporter": "python",
   "pygments_lexer": "ipython3",
   "version": "3.8.8"
  }
 },
 "nbformat": 4,
 "nbformat_minor": 5
}
